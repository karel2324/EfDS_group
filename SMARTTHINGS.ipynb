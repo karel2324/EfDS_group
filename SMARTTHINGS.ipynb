{
 "cells": [
  {
   "cell_type": "code",
   "execution_count": 2,
   "metadata": {},
   "outputs": [
    {
     "name": "stdout",
     "output_type": "stream",
     "text": [
      "We do not understand what you are asking.\n",
      "\n"
     ]
    }
   ],
   "source": [
    "import glob\n",
    "#import hm  # Assuming hm is a module that handles database operations\n",
    "\n",
    "def display_help():\n",
    "    print(\"Usage:\\n smartthings.py [OPTIONS] smartthings-2022-01-01-2022-09-22.tsv [...]\")\n",
    "    print(\"Output options: \\n -d DBURL insert into the project database (DBURL is a SQLAlchemy database URL)\\n\")\n",
    "\n",
    "def process_files(db_url, filename): #db_url= A SQLAlchemy database URL,filename=the name of teh file\n",
    "    path = \"Group_assignment/smartthings/\" + filename\n",
    "    name = 'smartthings'  # Assuming 'smartthings' is the intended name directly\n",
    "    try:\n",
    "        db = hm.HomeMessagesDB(db_url) #connects to the database using the URL\n",
    "        db.connect()\n",
    "        for filepath in glob.glob(path):\n",
    "            df = smart(filepath)  # Assuming 'smart' is a function that processes files\n",
    "            db.add(df, name)\n",
    "        db.dup(name)  # Remove duplicates from the table\n",
    "    except Exception as e:\n",
    "        print(f\"An error occurred: {e}\")# if for example database connecion error it catches the exception and prints an error\n",
    "    finally:\n",
    "        db.disconnect()  # Ensure the database connection is closed properly\n",
    "\n",
    "def main():\n",
    "    used = False\n",
    "    while not used:\n",
    "        user_input = input(\"Use -h or --help for a description of the tool.\\n\")\n",
    "        if user_input in (\"-h\", \"--help\"):\n",
    "            display_help()\n",
    "        elif user_input.startswith(\"smartthings.py -d \"):  #If the input starts with \"smartthings.py -d \", the code splits the input into parts using the split(maxsplit=3) method\n",
    "            parts = user_input.split(maxsplit=3)\n",
    "            if len(parts) >= 4: # parts contain \"smartthings.py\",\"-d\",\"DBURL\",\"filename\"\n",
    "                _, _, db_url, filename = parts #_ means palceholder for the first two elements,db_url corresponds to the third element,filename corresponds to the fourth element \"filename\"\n",
    "                process_files(db_url, filename)#this function processes the specifies file and interact with the database.\n",
    "                used = True\n",
    "            else:\n",
    "                print(\"Invalid input format. Please use -h or --help for the correct usage.\")\n",
    "        else:\n",
    "            print(\"Ιnvalid.\\n\")\n",
    "\n",
    "if __name__ == \"__main__\":\n",
    "    main()\n"
   ]
  }
 ],
 "metadata": {
  "kernelspec": {
   "display_name": "Python 3",
   "language": "python",
   "name": "python3"
  },
  "language_info": {
   "codemirror_mode": {
    "name": "ipython",
    "version": 3
   },
   "file_extension": ".py",
   "mimetype": "text/x-python",
   "name": "python",
   "nbconvert_exporter": "python",
   "pygments_lexer": "ipython3",
   "version": "3.12.1"
  }
 },
 "nbformat": 4,
 "nbformat_minor": 2
}
